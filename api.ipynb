{
 "cells": [
  {
   "cell_type": "code",
   "execution_count": 1,
   "id": "c6deac02-a5f1-440b-9f30-b2184ca0e271",
   "metadata": {},
   "outputs": [],
   "source": [
    "import warnings as wr"
   ]
  },
  {
   "cell_type": "code",
   "execution_count": 2,
   "id": "6e244b2b-5fdd-4b1a-8733-7c3bfe832144",
   "metadata": {},
   "outputs": [],
   "source": [
    "wr.simplefilter('ignore')"
   ]
  },
  {
   "cell_type": "code",
   "execution_count": 3,
   "id": "a08eeaa5-9c9d-473d-bd52-6a82a57b589c",
   "metadata": {},
   "outputs": [],
   "source": [
    "from fastapi import FastAPI\n",
    "from pydantic import BaseModel\n",
    "import nest_asyncio\n",
    "import pickle\n",
    "import json\n",
    "import uvicorn\n",
    "from pyngrok import ngrok\n",
    "from fastapi.middleware.cors import CORSMiddleware"
   ]
  },
  {
   "cell_type": "code",
   "execution_count": 4,
   "id": "4a8917a9-54d6-43a4-83aa-38c29cf7498b",
   "metadata": {},
   "outputs": [],
   "source": [
    "nest_asyncio.apply()"
   ]
  },
  {
   "cell_type": "code",
   "execution_count": 5,
   "id": "6683dc67-8bbe-455e-930c-3a0d61acc11c",
   "metadata": {},
   "outputs": [],
   "source": [
    "app = FastAPI()"
   ]
  },
  {
   "cell_type": "code",
   "execution_count": 6,
   "id": "f5622dec-1555-4dbb-9b99-ccce9d363609",
   "metadata": {},
   "outputs": [],
   "source": [
    "app.add_middleware(\n",
    "    CORSMiddleware,\n",
    "    allow_origins=[\"*\"],\n",
    "    allow_credentials=True,\n",
    "    allow_methods=[\"*\"],\n",
    "    allow_headers=[\"*\"],\n",
    ")\n"
   ]
  },
  {
   "cell_type": "code",
   "execution_count": 7,
   "id": "8bd6b9da-f517-45f6-a9e7-e936601709ed",
   "metadata": {},
   "outputs": [],
   "source": [
    "model = pickle.load(open('A:/Python/OPS/model_io.pkl', 'rb'))"
   ]
  },
  {
   "cell_type": "code",
   "execution_count": 8,
   "id": "8b7e3f75-c9dc-4e80-b8b3-2edc2b6be2fb",
   "metadata": {},
   "outputs": [],
   "source": [
    "class InputData(BaseModel):\n",
    "    tim: float\n",
    "    course: int"
   ]
  },
  {
   "cell_type": "code",
   "execution_count": 9,
   "id": "245aea7f-763a-40e2-9eda-6787a527cff5",
   "metadata": {},
   "outputs": [],
   "source": [
    "class Model:\n",
    "    def predict(self, input_features):\n",
    "        # Placeholder prediction logic\n",
    "        return [sum(input_features[0])]  # Example: summing features as a prediction"
   ]
  },
  {
   "cell_type": "code",
   "execution_count": 10,
   "id": "43846f2f-46a3-4a95-bfae-00ed299fbcfa",
   "metadata": {},
   "outputs": [],
   "source": [
    "model = Model()"
   ]
  },
  {
   "cell_type": "code",
   "execution_count": null,
   "id": "d64efa3e-66d5-493e-bc9a-eeaed213c217",
   "metadata": {},
   "outputs": [
    {
     "name": "stderr",
     "output_type": "stream",
     "text": [
      "INFO:     Started server process [564]\n",
      "INFO:     Waiting for application startup.\n",
      "INFO:     Application startup complete.\n",
      "INFO:     Uvicorn running on http://0.0.0.0:8000 (Press CTRL+C to quit)\n"
     ]
    }
   ],
   "source": [
    "@app.post(\"/predict\")\n",
    "async def predict_marks(input_data: InputData):\n",
    "    # Extract features from the input data\n",
    "    t = input_data.tim\n",
    "    c = input_data.course\n",
    "\n",
    "    # Prepare input for the model (as a 2D array)\n",
    "    input_features = np.array([[t, c]])\n",
    "\n",
    "    # Make a prediction using the model\n",
    "    prediction = model.predict(input_features)\n",
    "\n",
    "    # Return the prediction result as a JSON response\n",
    "    if prediction[0] >= 50:\n",
    "        return {\"result\": \"You shall Pass\"}\n",
    "    else:\n",
    "        return {\"result\": \"You shall Not Pass\"}\n",
    "ngrok.set_auth_token(\"your-ngrok-authentication-token\")\n",
    "\n",
    "# Open an ngrok tunnel to the FastAPI app\n",
    "public_url = ngrok.connect(8000)\n",
    "print(\"ngrok tunnel available at:\", public_url)\n",
    "\n",
    "if __name__ == \"__main__\":\n",
    "    uvicorn.run(app, host=\"0.0.0.0\", port=8000)"
   ]
  }
 ],
 "metadata": {
  "kernelspec": {
   "display_name": "Python 3 (ipykernel)",
   "language": "python",
   "name": "python3"
  },
  "language_info": {
   "codemirror_mode": {
    "name": "ipython",
    "version": 3
   },
   "file_extension": ".py",
   "mimetype": "text/x-python",
   "name": "python",
   "nbconvert_exporter": "python",
   "pygments_lexer": "ipython3",
   "version": "3.12.4"
  }
 },
 "nbformat": 4,
 "nbformat_minor": 5
}
